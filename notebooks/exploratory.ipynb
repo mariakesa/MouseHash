{
 "cells": [
  {
   "cell_type": "code",
   "execution_count": 1,
   "metadata": {},
   "outputs": [],
   "source": [
    "from one.api import ONE\n",
    "one = ONE(base_url='https://openalyx.internationalbrainlab.org')\n",
    "\n",
    "eid = 'ccf1880a-1eea-4fa5-9e7e-2283b0d036a2'  # example session\n",
    "datasets = one.list_datasets(eid)"
   ]
  },
  {
   "cell_type": "code",
   "execution_count": null,
   "metadata": {},
   "outputs": [
    {
     "name": "stderr",
     "output_type": "stream",
     "text": [
      "/home/maria/MouseHash/.venv/lib/python3.12/site-packages/one/util.py:543: ALFWarning: Multiple revisions: \"2022-01-31\", \"\"\n",
      "  warnings.warn(f'Multiple revisions: {rev_list}', alferr.ALFWarning)\n",
      "(S3) /home/maria/Downloads/ONE/openalyx.internationalbrainlab.org/hoferlab/Subjects/SWC_043/2020-09-21/001/alf/#2022-01-31#/_ibl_rightCamera.dlc.pqt: 100%|██████████| 83.0M/83.0M [00:12<00:00, 6.55MB/s]\n",
      "(S3) /home/maria/Downloads/ONE/openalyx.internationalbrainlab.org/hoferlab/Subjects/SWC_043/2020-09-21/001/alf/_ibl_rightCamera.features.pqt: 100%|██████████| 9.92M/9.92M [00:04<00:00, 2.14MB/s]\n",
      "(S3) /home/maria/Downloads/ONE/openalyx.internationalbrainlab.org/hoferlab/Subjects/SWC_043/2020-09-21/001/alf/_ibl_rightCamera.times.npy: 100%|██████████| 4.82M/4.82M [00:03<00:00, 1.57MB/s]\n",
      "(S3) /home/maria/Downloads/ONE/openalyx.internationalbrainlab.org/hoferlab/Subjects/SWC_043/2020-09-21/001/alf/#2022-01-31#/rightCamera.ROIMotionEnergy.npy: 100%|██████████| 4.82M/4.82M [00:02<00:00, 1.61MB/s]\n"
     ]
    }
   ],
   "source": [
    "#https://int-brain-lab.github.io/iblenv/notebooks_external/loading_video_data.html\n",
    "\n",
    "from one.api import ONE\n",
    "\n",
    "one = ONE()\n",
    "eid = '4ecb5d24-f5cc-402c-be28-9d0f7cb14b3a'\n",
    "\n",
    "label = 'right' # 'left', 'right' or 'body'\n",
    "\n",
    "video_features = one.load_object(eid, f'{label}Camera', collection='alf')\n"
   ]
  },
  {
   "cell_type": "code",
   "execution_count": 5,
   "metadata": {},
   "outputs": [
    {
     "data": {
      "text/plain": [
       "dict_keys(['dlc', 'features', 'times', 'ROIMotionEnergy'])"
      ]
     },
     "execution_count": 5,
     "metadata": {},
     "output_type": "execute_result"
    }
   ],
   "source": [
    "video_features.keys()"
   ]
  },
  {
   "cell_type": "code",
   "execution_count": 12,
   "metadata": {},
   "outputs": [
    {
     "data": {
      "text/plain": [
       "Index(['nose_tip_x', 'nose_tip_y', 'nose_tip_likelihood', 'pupil_top_r_x',\n",
       "       'pupil_top_r_y', 'pupil_top_r_likelihood', 'pupil_right_r_x',\n",
       "       'pupil_right_r_y', 'pupil_right_r_likelihood', 'pupil_bottom_r_x',\n",
       "       'pupil_bottom_r_y', 'pupil_bottom_r_likelihood', 'pupil_left_r_x',\n",
       "       'pupil_left_r_y', 'pupil_left_r_likelihood', 'paw_l_x', 'paw_l_y',\n",
       "       'paw_l_likelihood', 'paw_r_x', 'paw_r_y', 'paw_r_likelihood',\n",
       "       'tube_top_x', 'tube_top_y', 'tube_top_likelihood', 'tube_bottom_x',\n",
       "       'tube_bottom_y', 'tube_bottom_likelihood', 'tongue_end_l_x',\n",
       "       'tongue_end_l_y', 'tongue_end_l_likelihood', 'tongue_end_r_x',\n",
       "       'tongue_end_r_y', 'tongue_end_r_likelihood'],\n",
       "      dtype='object')"
      ]
     },
     "execution_count": 12,
     "metadata": {},
     "output_type": "execute_result"
    }
   ],
   "source": [
    "video_features['dlc'].columns"
   ]
  },
  {
   "cell_type": "code",
   "execution_count": null,
   "metadata": {},
   "outputs": [],
   "source": []
  }
 ],
 "metadata": {
  "kernelspec": {
   "display_name": ".venv",
   "language": "python",
   "name": "python3"
  },
  "language_info": {
   "codemirror_mode": {
    "name": "ipython",
    "version": 3
   },
   "file_extension": ".py",
   "mimetype": "text/x-python",
   "name": "python",
   "nbconvert_exporter": "python",
   "pygments_lexer": "ipython3",
   "version": "3.12.3"
  }
 },
 "nbformat": 4,
 "nbformat_minor": 2
}
